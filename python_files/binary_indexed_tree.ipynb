{
 "cells": [
  {
   "cell_type": "markdown",
   "metadata": {},
   "source": [
    "## Binary indexed tree (Fenwick tree)\n",
    "We can use it to calculate range sum and prefix sum. Suppose we want to build a binary indexed tree for an array with length `n`. We only need another length `n` array for BIT. \n",
    "\n",
    "BIT needs less space compare to segment tree."
   ]
  },
  {
   "cell_type": "code",
   "execution_count": null,
   "metadata": {},
   "outputs": [],
   "source": [
    "def update(bit, index, value):\n",
    "    n = len(bit)\n",
    "    cur = index\n",
    "    while cur <= n:\n",
    "        bit[cur] += value\n",
    "        cur += cur & (~cur)\n",
    "\n",
    "def getSum(bit, index):\n",
    "    n = len(bit)\n",
    "    cur = index\n",
    "    while cur > 0:\n",
    "        ans += bit[cur]\n",
    "        cur -= ccur & (~cur)\n",
    "    return ans"
   ]
  },
  {
   "cell_type": "code",
   "execution_count": null,
   "metadata": {},
   "outputs": [],
   "source": [
    "arr = [2, 1, 1, 3, 2, 3, 4, 5, 6, 7, 8, 9]\n",
    "bit = [0] * (len(arr) + 1)\n",
    "for i in range(1, len(bit)):\n",
    "    update(bit, i, arr[i-1])\n",
    "print(\"Sum from 0~4 = {}\".format(getSum(bit, 5)))"
   ]
  },
  {
   "cell_type": "code",
   "execution_count": null,
   "metadata": {},
   "outputs": [],
   "source": []
  }
 ],
 "metadata": {
  "kernelspec": {
   "display_name": "python_dev",
   "language": "python",
   "name": "python_dev"
  },
  "language_info": {
   "codemirror_mode": {
    "name": "ipython",
    "version": 3
   },
   "file_extension": ".py",
   "mimetype": "text/x-python",
   "name": "python",
   "nbconvert_exporter": "python",
   "pygments_lexer": "ipython3",
   "version": "3.5.2"
  }
 },
 "nbformat": 4,
 "nbformat_minor": 2
}
