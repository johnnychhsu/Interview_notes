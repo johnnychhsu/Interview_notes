{
 "cells": [
  {
   "cell_type": "markdown",
   "metadata": {},
   "source": [
    "## Segmentation Tree"
   ]
  },
  {
   "cell_type": "markdown",
   "metadata": {},
   "source": [
    "Consider the following problem:\n",
    "\n",
    "We have an array arr[0 . . . n-1]. We should be able to,\n",
    "\n",
    "1. Find the sum of elements from index l to r where 0 <= l <= r <= n-1\n",
    "2. Change value of a specified element of the array to a new value x. We need to do arr[i] = x where 0 <= i <= n-1."
   ]
  },
  {
   "cell_type": "markdown",
   "metadata": {},
   "source": [
    "### Solution"
   ]
  },
  {
   "cell_type": "markdown",
   "metadata": {},
   "source": [
    "There two simple ideas:\n",
    "1. We can calculate the range sum with a loop. This requires O(n) for range sum and O(1) for updating value\n",
    "2. We can build a new array storing sum from `0` to `i` at index `i`. This make the range sum to O(1), but updating value becomes O(n).\n",
    "\n",
    "It depends on the frequency of requesting the range sum or updating value. However, what if both calculations have same frequency?"
   ]
  },
  {
   "cell_type": "markdown",
   "metadata": {},
   "source": [
    "We can achieve both in O(logn) by segmentation tree"
   ]
  },
  {
   "cell_type": "markdown",
   "metadata": {},
   "source": [
    "### Representation of segmentation tree"
   ]
  },
  {
   "cell_type": "markdown",
   "metadata": {},
   "source": [
    "Basic features : \n",
    "1. Leaf Nodes are the elements of the input array.\n",
    "2. Each internal node represents some merging of the leaf nodes. The merging may be different for different problems. For this problem, merging is sum of leaves under a node."
   ]
  },
  {
   "cell_type": "markdown",
   "metadata": {},
   "source": [
    "Segmentation tree can be represented as array. It is a full binary tree (either 0 or 2 children for each node). We use dummy node for leaf node to fill the array.\n",
    "\n",
    "![seg_tree](segment_tree.png)"
   ]
  },
  {
   "cell_type": "markdown",
   "metadata": {},
   "source": [
    "The array representation of the above tree is :\n",
    "\n",
    "Memory representation of segment tree for input array [1, 3, 5, 7, 9, 11]\n",
    "\n",
    "st = [36, 9, 27, 4, 5, 16, 11, 1, 3, DUMMY, DUMMY, 7, 9, DUMMY, DUMMY]\n"
   ]
  },
  {
   "cell_type": "markdown",
   "metadata": {},
   "source": [
    "Since it is a full binary tree, there are n leafs, thus n-1 internal nodes. So the memory requirements is `2n-1` nodes. [1]"
   ]
  },
  {
   "cell_type": "markdown",
   "metadata": {},
   "source": [
    "### Query for range sum\n",
    "```python\n",
    "def getSum(node, l, r):\n",
    "   if the range of the node is within l and r:\n",
    "        return value in the node\n",
    "   elif the range of the node is completely outside l and r:\n",
    "        return 0\n",
    "   else:\n",
    "        return getSum(node's left child, l, r) + \n",
    "           getSum(node's right child, l, r)\n",
    "```"
   ]
  },
  {
   "cell_type": "markdown",
   "metadata": {},
   "source": [
    "### Updating a value\n",
    "We can update the value recursively. We start from root of the segment tree and add `diff` to all nodes which have given index in their range."
   ]
  },
  {
   "cell_type": "markdown",
   "metadata": {},
   "source": [
    "### Python implementation"
   ]
  },
  {
   "cell_type": "code",
   "execution_count": 77,
   "metadata": {},
   "outputs": [],
   "source": [
    "import math\n",
    "\n",
    "\n",
    "class SegmentationTree():\n",
    "    def __init__(self, arr):\n",
    "        self.arr = arr\n",
    "        self.leaf = math.ceil(math.log(len(arr), 2))\n",
    "        self.num_nodes = 2 * (2**self.leaf) - 1\n",
    "        self.segTree = [0] * self.num_nodes\n",
    "        \n",
    "        self._construct(0, len(arr) - 1, 0)\n",
    "    \n",
    "    def _getMid(self, s, e):\n",
    "        return (s + (e-s)//2)\n",
    "    \n",
    "    def _construct(self, start, end, cur):\n",
    "        if start == end:\n",
    "            self.segTree[cur] = self.arr[start]\n",
    "            return self.segTree[cur]\n",
    "\n",
    "        mid = self._getMid(start, end)\n",
    "        self.segTree[cur] = self._construct(start, mid, 2*cur+1) + self._construct(mid+1, end, 2*cur+2)\n",
    "        return self.segTree[cur]\n",
    "\n",
    "    def getSum(self, query_s, query_e):\n",
    "        if 0 <= query_s < len(self.arr) and 0 <= query_e < len(self.arr):\n",
    "            return self._getSum(0, len(self.arr)-1, query_s, query_e, 0)\n",
    "        \n",
    "    def update(self, index, new_v):\n",
    "        if 0 <= index < len(self.arr):\n",
    "            diff = new_v - self.arr[index]\n",
    "            self.arr[index] = new_v\n",
    "            self._update(0, len(self.arr)-1, index, diff, 0)\n",
    "        else:\n",
    "            print(\"Invalid index.\")\n",
    "        \n",
    "    def _getSum(self, segment_s, segment_e, query_s, query_e, cur):\n",
    "        if query_s <= segment_s and query_e >= segment_e:\n",
    "            return self.segTree[cur]\n",
    "        if segment_e < query_s or segment_s > query_e:\n",
    "            return 0\n",
    "\n",
    "        mid = self._getMid(segment_s, segment_e)\n",
    "        return self._getSum(segment_s, mid, query_s, query_e, 2*cur+1) + \\\n",
    "                self._getSum(mid+1, segment_e, query_s, query_e, 2*cur+2)\n",
    "\n",
    "    def _update(self, segment_s, segment_e, index, diff, cur):\n",
    "        if segment_s <= index <= segment_e:\n",
    "            self.segTree[cur] += diff\n",
    "            if segment_s < segment_e:\n",
    "                mid = self._getMid(segment_s, segment_e)\n",
    "                self._update(segment_s, mid, index, diff, 2*cur+1)\n",
    "                self._update(mid+1, segment_e, index, diff, 2*cur+2)\n"
   ]
  },
  {
   "cell_type": "code",
   "execution_count": 78,
   "metadata": {},
   "outputs": [
    {
     "name": "stdout",
     "output_type": "stream",
     "text": [
      "[1, 3, 5, 7, 9, 11]\n",
      "[36, 9, 27, 4, 5, 16, 11, 1, 3, 0, 0, 7, 9, 0, 0]\n",
      "21\n",
      "[1, 3, 7, 7, 9, 11]\n",
      "[38, 11, 27, 4, 7, 16, 11, 1, 3, 0, 0, 7, 9, 0, 0]\n",
      "23\n"
     ]
    }
   ],
   "source": [
    "arr = [1, 3, 5, 7, 9, 11]\n",
    "st = SegmentationTree(arr)\n",
    "print(st.arr)\n",
    "print(st.segTree)\n",
    "print(st.getSum(2, 4))\n",
    "st.update(2, 7)\n",
    "print(st.arr)\n",
    "print(st.segTree)\n",
    "print(st.getSum(2, 4))"
   ]
  },
  {
   "cell_type": "markdown",
   "metadata": {},
   "source": [
    "### Reference\n",
    "1. [Segmentation tree](https://www.geeksforgeeks.org/segment-tree-set-1-sum-of-given-range/)\n",
    "2. [Full binary tree](https://www.geeksforgeeks.org/binary-tree-set-3-types-of-binary-tree/)"
   ]
  },
  {
   "cell_type": "code",
   "execution_count": null,
   "metadata": {},
   "outputs": [],
   "source": []
  }
 ],
 "metadata": {
  "kernelspec": {
   "display_name": "Python 3",
   "language": "python",
   "name": "python3"
  },
  "language_info": {
   "codemirror_mode": {
    "name": "ipython",
    "version": 3
   },
   "file_extension": ".py",
   "mimetype": "text/x-python",
   "name": "python",
   "nbconvert_exporter": "python",
   "pygments_lexer": "ipython3",
   "version": "3.6.8"
  }
 },
 "nbformat": 4,
 "nbformat_minor": 2
}
