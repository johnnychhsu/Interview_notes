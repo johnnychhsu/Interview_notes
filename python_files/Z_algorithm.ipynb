{
 "cells": [
  {
   "cell_type": "markdown",
   "metadata": {},
   "source": [
    "## Z algorithm\n",
    "A pattern search algorithm that can search a pattern in a given tree in O(n) time."
   ]
  },
  {
   "cell_type": "markdown",
   "metadata": {},
   "source": [
    "### Concept\n",
    "Given a sreing `str`, we use an array called z array, `z[i]` stores the longest substring starting from index `i` which is also a prefix of `str[0:]`.\n",
    "\n",
    "We concatenate the pattern with text together using a special token `$`. Then we construct the z array according to the concatenated string.\n",
    "\n",
    "If we find `z[i] == len(pattern)`, then we find a hit. "
   ]
  },
  {
   "cell_type": "code",
   "execution_count": 5,
   "metadata": {},
   "outputs": [],
   "source": [
    "def getZArray(pattern, text):\n",
    "    concatenate = pattern + \"$\" + text\n",
    "    length = len(concatenate)\n",
    "    z = [0] * length\n",
    "    \n",
    "    L = R = 0\n",
    "    for i in range(1, length):\n",
    "        if i > R:\n",
    "            L = R = i\n",
    "            while R < length and concatenate[R-L] == concatenate[R]:\n",
    "                R += 1\n",
    "            z[i] = R - L\n",
    "            R -= 1\n",
    "        else:\n",
    "            k = i - L\n",
    "            if z[k] < R - i + 1:\n",
    "                z[i] = z[k]\n",
    "            else:\n",
    "                L = R = i\n",
    "                while R < length and concatenate[R-L] == concatenate[R]:\n",
    "                    R += 1\n",
    "                z[i] = R - L\n",
    "                R -= 1\n",
    "    return z\n",
    "\n",
    "def search(pattern, text):\n",
    "    z = getZArray(pattern, text)\n",
    "    for index, i in enumerate(z):\n",
    "        if i == len(pattern):\n",
    "            print(\"Find pattern \\\"{}\\\" at index {}\".format(pattern, index - len(pattern) - 1))"
   ]
  },
  {
   "cell_type": "code",
   "execution_count": 6,
   "metadata": {},
   "outputs": [
    {
     "name": "stdout",
     "output_type": "stream",
     "text": [
      "[0, 1, 0, 0, 0, 3, 1, 0, 2, 1]\n",
      "Find pattern \"aab\" at index 1\n"
     ]
    }
   ],
   "source": [
    "pattern = \"aab\"\n",
    "text = \"baabaa\"\n",
    "z = getZArray(pattern, text)\n",
    "print(z)\n",
    "\n",
    "search(pattern, text)"
   ]
  },
  {
   "cell_type": "markdown",
   "metadata": {},
   "source": [
    "### Reference\n",
    "1. [Z algorithm](https://www.geeksforgeeks.org/z-algorithm-linear-time-pattern-searching-algorithm/)"
   ]
  },
  {
   "cell_type": "code",
   "execution_count": null,
   "metadata": {},
   "outputs": [],
   "source": []
  }
 ],
 "metadata": {
  "kernelspec": {
   "display_name": "Python 3",
   "language": "python",
   "name": "python3"
  },
  "language_info": {
   "codemirror_mode": {
    "name": "ipython",
    "version": 3
   },
   "file_extension": ".py",
   "mimetype": "text/x-python",
   "name": "python",
   "nbconvert_exporter": "python",
   "pygments_lexer": "ipython3",
   "version": "3.6.8"
  }
 },
 "nbformat": 4,
 "nbformat_minor": 2
}
