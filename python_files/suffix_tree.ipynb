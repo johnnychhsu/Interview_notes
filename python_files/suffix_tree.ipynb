{
 "cells": [
  {
   "cell_type": "markdown",
   "metadata": {},
   "source": [
    "## Pattern searching using suffix tree"
   ]
  },
  {
   "cell_type": "markdown",
   "metadata": {},
   "source": [
    "Let's say we have a `text[0:n]` and a `pattern[0:m]` (assume n > m), if we want to search `pattern` in `text`, what is the optimal search algorithm that has the minimum time complexity? <br />\n",
    "Usually, we need O(n) time to go through whole `text` to find `pattern`. However, with some preprocessing, we can achieve O(m)."
   ]
  },
  {
   "cell_type": "markdown",
   "metadata": {},
   "source": [
    "### Suffix tree"
   ]
  },
  {
   "cell_type": "markdown",
   "metadata": {},
   "source": [
    "It is a compressed trie for all suffixes in `text`. <br />\n",
    "Suppose we have `{bear, bell, bid, bull, buy, sell, stock, stop}`, let's see what is the difference between trie and suffix tree."
   ]
  },
  {
   "cell_type": "markdown",
   "metadata": {},
   "source": [
    "#### This is a trie for the above data.\n",
    "![Trie](trie.png)\n",
    "\n",
    "(Image is from [Geek4geek](https://www.geeksforgeeks.org/pattern-searching-using-suffix-tree/))"
   ]
  },
  {
   "cell_type": "markdown",
   "metadata": {},
   "source": [
    "#### This is suffix tree of the above data\n",
    "![Suffix tree](com_trie.png)\n",
    "\n",
    "(Image is from [Geek4geek](https://www.geeksforgeeks.org/pattern-searching-using-suffix-tree/))"
   ]
  },
  {
   "cell_type": "markdown",
   "metadata": {},
   "source": [
    "### How to build a suffix tree?\n",
    "1. Generate all suffixes of given text.\n",
    "2. Consider all suffixes as an individual words and build a compressed trie."
   ]
  },
  {
   "cell_type": "markdown",
   "metadata": {},
   "source": [
    "### How to search in a suffix tree?\n",
    "1. Start from the first character of the pattern and root of suffix tree, do the following for every character:\n",
    "    1. For the current character, if there is a path from the current node to other node, follow the path\n",
    "    2. If not, then there is no this pattern in the given text\n",
    "2. If all characters are processed, then we found the pattern"
   ]
  },
  {
   "cell_type": "markdown",
   "metadata": {},
   "source": [
    "### Construction of suffix tree : Ukkonen's algorithm"
   ]
  },
  {
   "cell_type": "code",
   "execution_count": null,
   "metadata": {},
   "outputs": [],
   "source": []
  }
 ],
 "metadata": {
  "kernelspec": {
   "display_name": "Python 3",
   "language": "python",
   "name": "python3"
  },
  "language_info": {
   "codemirror_mode": {
    "name": "ipython",
    "version": 3
   },
   "file_extension": ".py",
   "mimetype": "text/x-python",
   "name": "python",
   "nbconvert_exporter": "python",
   "pygments_lexer": "ipython3",
   "version": "3.6.8"
  }
 },
 "nbformat": 4,
 "nbformat_minor": 2
}
