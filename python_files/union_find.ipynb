{
 "cells": [
  {
   "cell_type": "markdown",
   "metadata": {},
   "source": [
    "## Disjoint set\n",
    "Union find is based on disjoint set data structure. Let's first describe what is disjoint set.\n",
    "\n",
    "We are given ten people, and their relationship telling whether they are friends or not.\n",
    "\n",
    "```command\n",
    "10 people : a, b, c, ..., j\n",
    "\n",
    "A tuple represents that they are firends\n",
    "(a, b)\n",
    "(c, d)\n",
    "(e, j)\n",
    "(f, g)\n",
    "```\n",
    "\n",
    "We want to find whether `x` and `y` are firends given those imformation above.\n",
    "\n",
    "We can treat individuals into different set. Initially all people are in different set. After union, we select a representative for each set. If the two representative of two nodes are same, then they are in the same set, thus are friends."
   ]
  },
  {
   "cell_type": "markdown",
   "metadata": {},
   "source": [
    "### Array and tree\n",
    "We use an array called `parent` to store the representative for each nodes.\n",
    "\n",
    "#### Find\n",
    "The root node of each tree is the representative of each set. We can check `A[i] == i` to see if `i` is the representative of the tree.\n",
    "\n",
    "#### Union\n",
    "If two nodes are in different set, that is, have different root, then we can simply make one node as the new root for another node. By merging the tree, we can union the two set into one set.\n"
   ]
  },
  {
   "cell_type": "code",
   "execution_count": 1,
   "metadata": {},
   "outputs": [],
   "source": [
    "def find(x, parent):\n",
    "    if parent[x] == x:\n",
    "        return x\n",
    "    else:\n",
    "        p_x = parent[x]\n",
    "        return find(p_x, parent)\n",
    "\n",
    "def union(x, y, parent):\n",
    "    p_x = find(x, parent)\n",
    "    p_y = find(y, parent)\n",
    "    \n",
    "    parent[p_x] = p_y"
   ]
  },
  {
   "cell_type": "markdown",
   "metadata": {},
   "source": [
    "### Example problems\n",
    "1. Detect whether there is a cycle in an undirected graph\n",
    "2. Minimum increment to make a array unique\n",
    "\n",
    "Let's see the second problem"
   ]
  },
  {
   "cell_type": "code",
   "execution_count": null,
   "metadata": {},
   "outputs": [],
   "source": []
  },
  {
   "cell_type": "markdown",
   "metadata": {},
   "source": [
    "### Reference\n",
    "[Disjoint set](https://www.geeksforgeeks.org/disjoint-set-data-structures/)"
   ]
  }
 ],
 "metadata": {
  "kernelspec": {
   "display_name": "tensorflow_dev",
   "language": "python",
   "name": "tensorflow_dev"
  },
  "language_info": {
   "codemirror_mode": {
    "name": "ipython",
    "version": 3
   },
   "file_extension": ".py",
   "mimetype": "text/x-python",
   "name": "python",
   "nbconvert_exporter": "python",
   "pygments_lexer": "ipython3",
   "version": "3.6.4"
  }
 },
 "nbformat": 4,
 "nbformat_minor": 2
}
